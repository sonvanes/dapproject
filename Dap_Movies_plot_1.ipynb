{
 "cells": [
  {
   "cell_type": "code",
   "execution_count": 9,
   "metadata": {},
   "outputs": [],
   "source": [
    "import psycopg2\n",
    "try:\n",
    "    dbConnection = psycopg2.connect(\n",
    "    user = \"dap\",\n",
    "    password = \"dap\",\n",
    "    host = \"52.17.250.0\",\n",
    "    port = \"5432\",\n",
    "    database = \"dap_project\")\n",
    "    dbConnection.set_isolation_level(0) # AUTOCOMMIT\n",
    "    dbCursor = dbConnection.cursor()\n",
    "    #dbCursor.execute('CREATE DATABASE dap_project;')\n",
    "    #print(\"Database created sucessfully in postgres\")\n",
    "except (Exception , psycopg2.Error) as dbError :\n",
    "    print (\"Error while connecting to PostgreSQL\", dbError)"
   ]
  },
  {
   "cell_type": "code",
   "execution_count": 10,
   "metadata": {},
   "outputs": [],
   "source": [
    "import pandas as pd\n",
    "import matplotlib.pyplot as plt\n",
    "import seaborn as sns\n",
    "import numpy as np"
   ]
  },
  {
   "cell_type": "code",
   "execution_count": null,
   "metadata": {},
   "outputs": [],
   "source": []
  },
  {
   "cell_type": "code",
   "execution_count": 11,
   "metadata": {},
   "outputs": [
    {
     "name": "stdout",
     "output_type": "stream",
     "text": [
      "        id      genre         production_company        production_country  \\\n",
      "0        3      Drama  Villealfa Filmproductions                   Finland   \n",
      "1     9991     Comedy                  SKA Films            United Kingdom   \n",
      "2       11  Adventure                  Lucasfilm  United States of America   \n",
      "3       12  Animation                      Pixar  United States of America   \n",
      "4       14      Drama        Jinks/Cohen Company  United States of America   \n",
      "...    ...        ...                        ...                       ...   \n",
      "1079  9966    Mystery                Screen Gems  United States of America   \n",
      "1080  9968     Comedy                Rising Star                    Canada   \n",
      "1081  9972     Action           TriStar Pictures  United States of America   \n",
      "1082  9986     Comedy                  Paramount                   Germany   \n",
      "1083  9988     Comedy   Broken Lizard Industries  United States of America   \n",
      "\n",
      "     release_date  runtime languages                title  vote_average  \\\n",
      "0      1986-10-17       72   svenska  Shadows in Paradise           7.4   \n",
      "1      2001-12-26       99   English         Mean Machine           6.2   \n",
      "2      1977-05-25      121   English            Star Wars           8.2   \n",
      "3      2003-05-30      100   English         Finding Nemo           7.8   \n",
      "4      1999-09-15      122   English      American Beauty           8.0   \n",
      "...           ...      ...       ...                  ...           ...   \n",
      "1079   2007-02-02       90   English       The Messengers           5.6   \n",
      "1080   2005-10-27      100   English        The Big White           6.4   \n",
      "1081   1989-08-04      115   English              Lock Up           6.5   \n",
      "1082   2006-12-07       97   English      Charlotte s Web           6.0   \n",
      "1083   2006-08-25      110   Deutsch             Beerfest           5.8   \n",
      "\n",
      "      vote_count  \n",
      "0            105  \n",
      "1            324  \n",
      "2          13353  \n",
      "3          13279  \n",
      "4           7771  \n",
      "...          ...  \n",
      "1079         469  \n",
      "1080         167  \n",
      "1081         502  \n",
      "1082         754  \n",
      "1083         299  \n",
      "\n",
      "[1084 rows x 10 columns]\n"
     ]
    }
   ],
   "source": [
    "sql='''select * from movies;\n",
    "'''\n",
    "movies = pd.read_sql(sql, dbConnection)\n",
    "df_movies = pd.DataFrame(movies)\n",
    "print(df_movies)"
   ]
  },
  {
   "cell_type": "code",
   "execution_count": 61,
   "metadata": {},
   "outputs": [
    {
     "name": "stdout",
     "output_type": "stream",
     "text": [
      "   vote_count                                             title      genre\n",
      "0       16431          Harry Potter and the Philosopher s Stone  Adventure\n",
      "1       16596  The Lord of the Rings The Fellowship of the Ring  Adventure\n",
      "2       16613                                           Titanic      Drama\n",
      "3       16653                                        The Matrix     Action\n",
      "4       17983                                          Iron Man     Action\n",
      "5       18206                                      Pulp Fiction   Thriller\n",
      "6       18836                                        Fight Club      Drama\n",
      "7       21751                                   The Dark Knight      Drama\n"
     ]
    }
   ],
   "source": [
    "sql='''select vote_count,title,genre from movies where vote_count>=16000 order by vote_count;'''\n",
    "#dbCursor.execute(sql)\n",
    "#data= dbCursor.fetchall()\n",
    "#print(data)\n",
    "movies = pd.read_sql(sql, dbConnection)\n",
    "most_v_movies = pd.DataFrame(movies)\n",
    "print(most_v_movies)"
   ]
  },
  {
   "cell_type": "code",
   "execution_count": 122,
   "metadata": {},
   "outputs": [
    {
     "data": {
      "text/plain": [
       "Text(0, 0.5, 'vote count per movie')"
      ]
     },
     "execution_count": 122,
     "metadata": {},
     "output_type": "execute_result"
    },
    {
     "data": {
      "image/png": "[encoded data removed]",
      "text/plain": [
       "<Figure size 432x288 with 1 Axes>"
      ]
     },
     "metadata": {
      "needs_background": "light"
     },
     "output_type": "display_data"
    }
   ],
   "source": [
    "most_v_movies.plot(kind='bar',x='title',y='vote_count')\n",
    "plt.xticks(rotation=90)\n",
    "plt.title('Top 8 most voted Movies')\n",
    "plt.xlabel('Movies title')\n",
    "plt.ylabel('vote count per movie')\n"
   ]
  },
  {
   "cell_type": "code",
   "execution_count": 81,
   "metadata": {},
   "outputs": [
    {
     "name": "stdout",
     "output_type": "stream",
     "text": [
      "    count            genre\n",
      "0      86            Crime\n",
      "1      13        Animation\n",
      "2       5      Documentary\n",
      "3      19          Romance\n",
      "4       4          History\n",
      "5      22          Mystery\n",
      "6       6            Music\n",
      "7      36          Fantasy\n",
      "8       2         TV Movie\n",
      "9      38  Science Fiction\n",
      "10    106           Horror\n",
      "11    221            Drama\n",
      "12    175           Action\n",
      "13     44         Thriller\n",
      "14     24          Western\n",
      "15    150           Comedy\n",
      "16    125        Adventure\n",
      "17      6              War\n",
      "18      2           Family\n"
     ]
    }
   ],
   "source": [
    "sql='''select count(id),genre from movies group by genre;'''\n",
    "movies = pd.read_sql(sql, dbConnection)\n",
    "grp_gnr_movies = pd.DataFrame(movies)\n",
    "print(grp_gnr_movies)"
   ]
  },
  {
   "cell_type": "code",
   "execution_count": 64,
   "metadata": {},
   "outputs": [
    {
     "name": "stdout",
     "output_type": "stream",
     "text": [
      "    count            genre\n",
      "0      86            Crime\n",
      "1      13        Animation\n",
      "2       5      Documentary\n",
      "3      19          Romance\n",
      "4       4          History\n",
      "5      22          Mystery\n",
      "6       6            Music\n",
      "7      36          Fantasy\n",
      "8       2         TV Movie\n",
      "9      38  Science Fiction\n",
      "10    106           Horror\n",
      "11    221            Drama\n",
      "12    175           Action\n",
      "13     44         Thriller\n",
      "14     24          Western\n",
      "15    150           Comedy\n",
      "16    125        Adventure\n",
      "17      6              War\n",
      "18      2           Family\n"
     ]
    }
   ],
   "source": [
    "sql='''select count(id),genre from movies group by genre;'''\n",
    "movies = pd.read_sql(sql, dbConnection)\n",
    "grp_gnr_movies = pd.DataFrame(movies)\n",
    "print(grp_gnr_movies)"
   ]
  },
  {
   "cell_type": "code",
   "execution_count": 10,
   "metadata": {},
   "outputs": [
    {
     "data": {
      "text/plain": [
       "pandas.core.frame.DataFrame"
      ]
     },
     "execution_count": 10,
     "metadata": {},
     "output_type": "execute_result"
    }
   ],
   "source": [
    "type(grp_gnr_movies)"
   ]
  },
  {
   "cell_type": "code",
   "execution_count": 65,
   "metadata": {},
   "outputs": [
    {
     "data": {
      "text/plain": [
       "Text(0, 0.5, 'Total Movies per Genre')"
      ]
     },
     "execution_count": 65,
     "metadata": {},
     "output_type": "execute_result"
    },
    {
     "data": {
      "image/png": "[encoded data removed]",
      "text/plain": [
       "<Figure size 432x288 with 1 Axes>"
      ]
     },
     "metadata": {
      "needs_background": "light"
     },
     "output_type": "display_data"
    }
   ],
   "source": [
    "grp_gnr_movies.plot(kind='bar',x='genre',y='count')\n",
    "plt.title('Movie Genre')\n",
    "plt.xlabel('Type of Genre')\n",
    "plt.ylabel('Total Movies per Genre')"
   ]
  },
  {
   "cell_type": "code",
   "execution_count": 67,
   "metadata": {},
   "outputs": [
    {
     "name": "stdout",
     "output_type": "stream",
     "text": [
      "    count        production_country\n",
      "0     703  United States of America\n",
      "1       1               Switzerland\n",
      "2       1                   Ecuador\n",
      "3      12                     Italy\n",
      "4      10               New Zealand\n",
      "5       1                    Russia\n",
      "6       3                     China\n",
      "7       1                Luxembourg\n",
      "8       4            Czech Republic\n",
      "9       1                      Fiji\n",
      "10      4                    Sweden\n",
      "11    112            United Kingdom\n",
      "12      4               Netherlands\n",
      "13      1                    Uganda\n",
      "14      1                    Brazil\n",
      "15      1                   Austria\n",
      "16     23                 Australia\n",
      "17      7                   Ireland\n",
      "18     57                   Germany\n",
      "19     23                    Canada\n",
      "20      1               South Korea\n",
      "21      4                   Finland\n",
      "22      1                  Bulgaria\n",
      "23      1                 Argentina\n",
      "24     11                     Spain\n",
      "25      1                   Bahamas\n",
      "26      1                     India\n",
      "27     55                    France\n",
      "28      1                   Estonia\n",
      "29      1                    Israel\n",
      "30      3                    Mexico\n",
      "31      1                      Peru\n",
      "32      1                Kazakhstan\n",
      "33      3                 Hong Kong\n",
      "34     23                     Japan\n",
      "35      5                   Denmark\n",
      "36      1                  Thailand\n"
     ]
    }
   ],
   "source": [
    "sql='''select count(title),production_country from movies group by production_country;'''\n",
    "movies = pd.read_sql(sql, dbConnection)\n",
    "prd_cnty_movies = pd.DataFrame(movies)\n",
    "print(prd_cnty_movies)"
   ]
  },
  {
   "cell_type": "code",
   "execution_count": 68,
   "metadata": {},
   "outputs": [
    {
     "name": "stdout",
     "output_type": "stream",
     "text": [
      "   count        production_country\n",
      "0    703  United States of America\n",
      "1    112            United Kingdom\n",
      "2     57                   Germany\n",
      "3     55                    France\n",
      "4     23                 Australia\n",
      "5     23                     Japan\n",
      "6     23                    Canada\n",
      "7     12                     Italy\n",
      "8     11                     Spain\n",
      "9     10               New Zealand\n"
     ]
    }
   ],
   "source": [
    "sql='''select count(title),production_country from movies \n",
    "group by production_country \n",
    "order by count(title)desc limit 10;'''\n",
    "movies = pd.read_sql(sql, dbConnection)\n",
    "cntry_top_movies = pd.DataFrame(movies)\n",
    "print(cntry_top_movies)"
   ]
  },
  {
   "cell_type": "code",
   "execution_count": 121,
   "metadata": {},
   "outputs": [
    {
     "data": {
      "text/plain": [
       "Text(0, 0.5, 'Total Movie count')"
      ]
     },
     "execution_count": 121,
     "metadata": {},
     "output_type": "execute_result"
    },
    {
     "data": {
      "image/png": "[encoded data removed]",
      "text/plain": [
       "<Figure size 432x288 with 1 Axes>"
      ]
     },
     "metadata": {
      "needs_background": "light"
     },
     "output_type": "display_data"
    }
   ],
   "source": [
    "import seaborn as sns\n",
    "import matplotlib.pyplot as plt\n",
    "%matplotlib inline\n",
    "sns.barplot(x='production_country',y='count',data=cntry_top_movies)\n",
    "plt.xticks(rotation=90)\n",
    "plt.title('Top 10 Movie Production Countries')\n",
    "plt.xlabel('Top production country')\n",
    "plt.ylabel('Total Movie count')\n"
   ]
  },
  {
   "cell_type": "code",
   "execution_count": 62,
   "metadata": {},
   "outputs": [
    {
     "name": "stdout",
     "output_type": "stream",
     "text": [
      "    count        production_country\n",
      "0     703  United States of America\n",
      "1       1               Switzerland\n",
      "2       1                   Ecuador\n",
      "3      12                     Italy\n",
      "4      10               New Zealand\n",
      "5       1                    Russia\n",
      "6       3                     China\n",
      "7       1                Luxembourg\n",
      "8       4            Czech Republic\n",
      "9       1                      Fiji\n",
      "10      4                    Sweden\n",
      "11    112            United Kingdom\n",
      "12      4               Netherlands\n",
      "13      1                    Uganda\n",
      "14      1                    Brazil\n",
      "15      1                   Austria\n",
      "16     23                 Australia\n",
      "17      7                   Ireland\n",
      "18     57                   Germany\n",
      "19     23                    Canada\n",
      "20      1               South Korea\n",
      "21      4                   Finland\n",
      "22      1                  Bulgaria\n",
      "23      1                 Argentina\n",
      "24     11                     Spain\n",
      "25      1                   Bahamas\n",
      "26      1                     India\n",
      "27     55                    France\n",
      "28      1                   Estonia\n",
      "29      1                    Israel\n",
      "30      3                    Mexico\n",
      "31      1                      Peru\n",
      "32      1                Kazakhstan\n",
      "33      3                 Hong Kong\n",
      "34     23                     Japan\n",
      "35      5                   Denmark\n",
      "36      1                  Thailand\n"
     ]
    }
   ],
   "source": [
    "sql=''' select count(title),production_country from movies\n",
    "group by production_country;'''\n",
    "movies = pd.read_sql(sql, dbConnection)\n",
    "line = pd.DataFrame(movies)\n",
    "print(line)"
   ]
  },
  {
   "cell_type": "code",
   "execution_count": 75,
   "metadata": {},
   "outputs": [
    {
     "name": "stdout",
     "output_type": "stream",
     "text": [
      "    count            genre\n",
      "0      86            Crime\n",
      "1      13        Animation\n",
      "2       5      Documentary\n",
      "3      19          Romance\n",
      "4       4          History\n",
      "5      22          Mystery\n",
      "6       6            Music\n",
      "7      36          Fantasy\n",
      "8       2         TV Movie\n",
      "9      38  Science Fiction\n",
      "10    106           Horror\n",
      "11    221            Drama\n",
      "12    175           Action\n",
      "13     44         Thriller\n",
      "14     24          Western\n",
      "15    150           Comedy\n",
      "16    125        Adventure\n",
      "17      6              War\n",
      "18      2           Family\n"
     ]
    }
   ],
   "source": [
    "sql=''' select count(id),genre from movies group by genre;'''\n",
    "movies = pd.read_sql(sql, dbConnection)\n",
    "line = pd.DataFrame(movies)\n",
    "print(line)"
   ]
  },
  {
   "cell_type": "code",
   "execution_count": 72,
   "metadata": {},
   "outputs": [
    {
     "name": "stdout",
     "output_type": "stream",
     "text": [
      "   count languages\n",
      "0    873   English\n",
      "1     37   Español\n",
      "2     37  Français\n",
      "3     30   Deutsch\n",
      "4     19       日本語\n"
     ]
    }
   ],
   "source": [
    "sql=''' select count(id),languages from movies group by languages order by count(id)desc\n",
    "limit 5;'''\n",
    "movies = pd.read_sql(sql, dbConnection)\n",
    "line = pd.DataFrame(movies)\n",
    "print(line)"
   ]
  },
  {
   "cell_type": "code",
   "execution_count": 73,
   "metadata": {},
   "outputs": [
    {
     "name": "stdout",
     "output_type": "stream",
     "text": [
      "0    873\n",
      "1     37\n",
      "2     37\n",
      "3     30\n",
      "4     19\n",
      "Name: count, dtype: int64\n"
     ]
    }
   ],
   "source": [
    "m=line['count']\n",
    "print(m)"
   ]
  },
  {
   "cell_type": "code",
   "execution_count": 74,
   "metadata": {},
   "outputs": [],
   "source": [
    "g=line['languages']"
   ]
  },
  {
   "cell_type": "code",
   "execution_count": 75,
   "metadata": {},
   "outputs": [
    {
     "name": "stderr",
     "output_type": "stream",
     "text": [
      "/Users/ganeshmore/anaconda3/lib/python3.7/site-packages/matplotlib/backends/backend_agg.py:211: RuntimeWarning: Glyph 26085 missing from current font.\n",
      "  font.set_text(s, 0.0, flags=flags)\n",
      "/Users/ganeshmore/anaconda3/lib/python3.7/site-packages/matplotlib/backends/backend_agg.py:211: RuntimeWarning: Glyph 26412 missing from current font.\n",
      "  font.set_text(s, 0.0, flags=flags)\n",
      "/Users/ganeshmore/anaconda3/lib/python3.7/site-packages/matplotlib/backends/backend_agg.py:211: RuntimeWarning: Glyph 35486 missing from current font.\n",
      "  font.set_text(s, 0.0, flags=flags)\n",
      "/Users/ganeshmore/anaconda3/lib/python3.7/site-packages/matplotlib/backends/backend_agg.py:180: RuntimeWarning: Glyph 26085 missing from current font.\n",
      "  font.set_text(s, 0, flags=flags)\n",
      "/Users/ganeshmore/anaconda3/lib/python3.7/site-packages/matplotlib/backends/backend_agg.py:180: RuntimeWarning: Glyph 26412 missing from current font.\n",
      "  font.set_text(s, 0, flags=flags)\n",
      "/Users/ganeshmore/anaconda3/lib/python3.7/site-packages/matplotlib/backends/backend_agg.py:180: RuntimeWarning: Glyph 35486 missing from current font.\n",
      "  font.set_text(s, 0, flags=flags)\n"
     ]
    },
    {
     "data": {
      "image/png": "[encoded data removed]",
      "text/plain": [
       "<Figure size 432x288 with 1 Axes>"
      ]
     },
     "metadata": {},
     "output_type": "display_data"
    }
   ],
   "source": [
    "import matplotlib.pyplot as plt\n",
    "\n",
    "labels = g\n",
    "sizes = m\n",
    "explode = (0.5, 0,0, 0, 0)  \n",
    "fig1, ax1 = plt.subplots()\n",
    "ax1.pie(sizes, explode=explode, labels=labels, autopct='%1.1f%%',\n",
    "        shadow=True, startangle=20)\n",
    "ax1.axis('equal') \n",
    "plt.title('Pie chart for Languages')\n",
    "plt.show()"
   ]
  },
  {
   "cell_type": "code",
   "execution_count": 103,
   "metadata": {},
   "outputs": [
    {
     "name": "stdout",
     "output_type": "stream",
     "text": [
      "    count  vote_average\n",
      "0      49           7.3\n",
      "1      46           6.7\n",
      "2      51           7.2\n",
      "3       6           5.1\n",
      "4       1           4.5\n",
      "5       7           5.3\n",
      "6       2           4.7\n",
      "7       4           4.6\n",
      "8       1           2.9\n",
      "9       2           8.5\n",
      "10     43           6.4\n",
      "11      1           3.1\n",
      "12     41           7.6\n",
      "13      1           8.6\n",
      "14      1           4.1\n",
      "15      2           4.8\n",
      "16     38           6.2\n",
      "17     14           8.3\n",
      "18      1           4.0\n",
      "19     18           5.8\n",
      "20     28           8.0\n",
      "21     22           5.7\n",
      "22     19           5.4\n",
      "23      1           3.3\n",
      "24      5           5.2\n",
      "25     36           7.7\n",
      "26     20           5.6\n",
      "27     40           7.1\n",
      "28      5           4.9\n",
      "29     42           7.0\n",
      "30      3           4.3\n",
      "31     31           5.9\n",
      "32     47           7.5\n",
      "33     21           8.2\n",
      "34     32           6.1\n",
      "35     31           7.9\n",
      "36     15           8.4\n",
      "37     45           6.6\n",
      "38     20           8.1\n",
      "39     33           7.8\n",
      "40     41           6.3\n",
      "41      2           4.4\n",
      "42      5           5.0\n",
      "43     42           6.8\n",
      "44     33           6.0\n",
      "45      3           3.8\n",
      "46     41           6.5\n",
      "47     44           7.4\n",
      "48     10           5.5\n",
      "49     36           6.9\n",
      "50      2           8.7\n"
     ]
    }
   ],
   "source": [
    "sql='''\n",
    "select count(id),vote_average from movies group by vote_average;'''\n",
    "movies = pd.read_sql(sql, dbConnection)\n",
    "line1 = pd.DataFrame(movies)\n",
    "print(line1)"
   ]
  },
  {
   "cell_type": "code",
   "execution_count": 102,
   "metadata": {},
   "outputs": [
    {
     "name": "stdout",
     "output_type": "stream",
     "text": [
      "     count  runtime\n",
      "0       18      116\n",
      "1        9       87\n",
      "2        3       71\n",
      "3        1      229\n",
      "4        5       80\n",
      "..     ...      ...\n",
      "121      3      145\n",
      "122      1      148\n",
      "123     11      129\n",
      "124     16      130\n",
      "125      7      143\n",
      "\n",
      "[126 rows x 2 columns]\n"
     ]
    }
   ],
   "source": [
    "sql='''\n",
    "select count(id),runtime from movies group by runtime;'''\n",
    "movies = pd.read_sql(sql, dbConnection)\n",
    "line2 = pd.DataFrame(movies)\n",
    "print(line2)"
   ]
  },
  {
   "cell_type": "code",
   "execution_count": 107,
   "metadata": {},
   "outputs": [
    {
     "name": "stdout",
     "output_type": "stream",
     "text": [
      "   count        production_country\n",
      "0    703  United States of America\n",
      "1    112            United Kingdom\n",
      "2     57                   Germany\n",
      "3     55                    France\n",
      "4     23                 Australia\n"
     ]
    }
   ],
   "source": [
    "sql=''' select count(title),production_country from movies\n",
    "group by production_country order by count(title)desc limit 5;'''\n",
    "movies = pd.read_sql(sql, dbConnection)\n",
    "line5 = pd.DataFrame(movies)\n",
    "print(line5)"
   ]
  },
  {
   "cell_type": "code",
   "execution_count": 109,
   "metadata": {
    "scrolled": true
   },
   "outputs": [
    {
     "data": {
      "text/plain": [
       "<matplotlib.axes._subplots.AxesSubplot at 0x1a1efa6f98>"
      ]
     },
     "execution_count": 109,
     "metadata": {},
     "output_type": "execute_result"
    },
    {
     "data": {
      "image/png": "[encoded data removed]",
      "text/plain": [
       "<Figure size 432x288 with 1 Axes>"
      ]
     },
     "metadata": {
      "needs_background": "light"
     },
     "output_type": "display_data"
    }
   ],
   "source": [
    "line1[['count']].plot(kind='hist',bins=[0,5,10,15,20,25,30,35,40,45,50,55],rwidth=0.8)\n"
   ]
  },
  {
   "cell_type": "code",
   "execution_count": 48,
   "metadata": {},
   "outputs": [
    {
     "name": "stdout",
     "output_type": "stream",
     "text": [
      "   Release Year  count\n",
      "0          1968      8\n",
      "1          2010      1\n",
      "2          1979     17\n",
      "3          1942      4\n",
      "4          1997     33\n",
      "..          ...    ...\n",
      "87         1955      9\n",
      "88         2005     43\n",
      "89         1902      1\n",
      "90         1925      1\n",
      "91         1964     10\n",
      "\n",
      "[92 rows x 2 columns]\n"
     ]
    }
   ],
   "source": [
    "sql='''select TO_CHAR(release_date,'YYYY') as \"Release Year\", count(*) from movies \n",
    "group by \"Release Year\";'''\n",
    "movies = pd.read_sql(sql, dbConnection)\n",
    "line10 = pd.DataFrame(movies)\n",
    "print(line10)\n"
   ]
  },
  {
   "cell_type": "code",
   "execution_count": 49,
   "metadata": {},
   "outputs": [
    {
     "data": {
      "text/plain": [
       "<matplotlib.axes._subplots.AxesSubplot at 0x1a22c40048>"
      ]
     },
     "execution_count": 49,
     "metadata": {},
     "output_type": "execute_result"
    },
    {
     "data": {
      "image/png": "[encoded data removed]",
      "text/plain": [
       "<Figure size 432x288 with 1 Axes>"
      ]
     },
     "metadata": {
      "needs_background": "light"
     },
     "output_type": "display_data"
    }
   ],
   "source": [
    "line10['count'].plot(kind='hist',rwidth=0.1)\n"
   ]
  },
  {
   "cell_type": "code",
   "execution_count": 4,
   "metadata": {},
   "outputs": [
    {
     "ename": "NameError",
     "evalue": "name 'line10' is not defined",
     "output_type": "error",
     "traceback": [
      "\u001b[0;31m---------------------------------------------------------------------------\u001b[0m",
      "\u001b[0;31mNameError\u001b[0m                                 Traceback (most recent call last)",
      "\u001b[0;32m<ipython-input-4-ddba4861c189>\u001b[0m in \u001b[0;36m<module>\u001b[0;34m\u001b[0m\n\u001b[1;32m      1\u001b[0m \u001b[0mget_ipython\u001b[0m\u001b[0;34m(\u001b[0m\u001b[0;34m)\u001b[0m\u001b[0;34m.\u001b[0m\u001b[0mrun_line_magic\u001b[0m\u001b[0;34m(\u001b[0m\u001b[0;34m'matplotlib'\u001b[0m\u001b[0;34m,\u001b[0m \u001b[0;34m'inline'\u001b[0m\u001b[0;34m)\u001b[0m\u001b[0;34m\u001b[0m\u001b[0;34m\u001b[0m\u001b[0m\n\u001b[0;32m----> 2\u001b[0;31m \u001b[0msns\u001b[0m\u001b[0;34m.\u001b[0m\u001b[0mbarplot\u001b[0m\u001b[0;34m(\u001b[0m\u001b[0mx\u001b[0m\u001b[0;34m=\u001b[0m\u001b[0;34m'Release Year'\u001b[0m\u001b[0;34m,\u001b[0m\u001b[0my\u001b[0m\u001b[0;34m=\u001b[0m\u001b[0;34m'count'\u001b[0m\u001b[0;34m,\u001b[0m\u001b[0mwidth\u001b[0m\u001b[0;34m=\u001b[0m\u001b[0;36m1\u001b[0m\u001b[0;34m,\u001b[0m\u001b[0mdata\u001b[0m\u001b[0;34m=\u001b[0m\u001b[0mline10\u001b[0m\u001b[0;34m)\u001b[0m\u001b[0;34m\u001b[0m\u001b[0;34m\u001b[0m\u001b[0m\n\u001b[0m\u001b[1;32m      3\u001b[0m \u001b[0mplt\u001b[0m\u001b[0;34m.\u001b[0m\u001b[0mxticks\u001b[0m\u001b[0;34m(\u001b[0m\u001b[0mrotation\u001b[0m\u001b[0;34m=\u001b[0m\u001b[0;36m90\u001b[0m\u001b[0;34m)\u001b[0m\u001b[0;34m\u001b[0m\u001b[0;34m\u001b[0m\u001b[0m\n",
      "\u001b[0;31mNameError\u001b[0m: name 'line10' is not defined"
     ]
    }
   ],
   "source": [
    "%matplotlib inline\n",
    "sns.barplot(x='Release Year',y='count',width=1,data=line10)\n",
    "plt.xticks(rotation=90)\n"
   ]
  },
  {
   "cell_type": "code",
   "execution_count": 14,
   "metadata": {},
   "outputs": [
    {
     "data": {
      "text/plain": [
       "(array([ 0,  1,  2,  3,  4,  5,  6,  7,  8,  9, 10, 11, 12, 13, 14, 15, 16,\n",
       "        17, 18, 19, 20, 21, 22, 23, 24, 25, 26, 27, 28, 29, 30, 31, 32, 33,\n",
       "        34, 35, 36, 37, 38, 39, 40, 41, 42, 43, 44, 45, 46, 47, 48, 49, 50,\n",
       "        51, 52, 53, 54, 55, 56, 57, 58, 59, 60, 61, 62, 63, 64, 65, 66, 67,\n",
       "        68, 69, 70, 71, 72, 73, 74, 75, 76, 77, 78, 79, 80, 81, 82, 83, 84,\n",
       "        85, 86, 87, 88, 89, 90, 91]),\n",
       " <a list of 92 Text xticklabel objects>)"
      ]
     },
     "execution_count": 14,
     "metadata": {},
     "output_type": "execute_result"
    },
    {
     "data": {
      "image/png": "[encoded data removed]",
      "text/plain": [
       "<Figure size 432x288 with 1 Axes>"
      ]
     },
     "metadata": {
      "needs_background": "light"
     },
     "output_type": "display_data"
    }
   ],
   "source": [
    "line10.plot(kind='bar',x='Release Year',y='count')\n",
    "plt.xticks(rotation=90)"
   ]
  },
  {
   "cell_type": "code",
   "execution_count": null,
   "metadata": {},
   "outputs": [],
   "source": []
  },
  {
   "cell_type": "code",
   "execution_count": 3,
   "metadata": {},
   "outputs": [
    {
     "ename": "NameError",
     "evalue": "name 'dbConnection' is not defined",
     "output_type": "error",
     "traceback": [
      "\u001b[0;31m---------------------------------------------------------------------------\u001b[0m",
      "\u001b[0;31mNameError\u001b[0m                                 Traceback (most recent call last)",
      "\u001b[0;32m<ipython-input-3-812f705cb817>\u001b[0m in \u001b[0;36m<module>\u001b[0;34m\u001b[0m\n\u001b[1;32m     11\u001b[0m \u001b[0mgroup\u001b[0m \u001b[0mby\u001b[0m \u001b[0;34m\"Release Year\"\u001b[0m\u001b[0;34m;\u001b[0m\u001b[0;34m\u001b[0m\u001b[0;34m\u001b[0m\u001b[0m\n\u001b[1;32m     12\u001b[0m '''\n\u001b[0;32m---> 13\u001b[0;31m \u001b[0mdata\u001b[0m \u001b[0;34m=\u001b[0m \u001b[0mpd\u001b[0m\u001b[0;34m.\u001b[0m\u001b[0mread_sql\u001b[0m\u001b[0;34m(\u001b[0m\u001b[0msql\u001b[0m\u001b[0;34m,\u001b[0m \u001b[0mdbConnection\u001b[0m\u001b[0;34m)\u001b[0m\u001b[0;34m\u001b[0m\u001b[0;34m\u001b[0m\u001b[0m\n\u001b[0m\u001b[1;32m     14\u001b[0m \u001b[0mcount_year\u001b[0m \u001b[0;34m=\u001b[0m \u001b[0mdata\u001b[0m\u001b[0;34m.\u001b[0m\u001b[0msort_values\u001b[0m\u001b[0;34m(\u001b[0m\u001b[0mby\u001b[0m\u001b[0;34m=\u001b[0m\u001b[0;34m[\u001b[0m\u001b[0;34m'count'\u001b[0m\u001b[0;34m]\u001b[0m\u001b[0;34m,\u001b[0m\u001b[0mascending\u001b[0m\u001b[0;34m=\u001b[0m\u001b[0;32mFalse\u001b[0m\u001b[0;34m)\u001b[0m\u001b[0;34m.\u001b[0m\u001b[0mhead\u001b[0m\u001b[0;34m(\u001b[0m\u001b[0;36m29\u001b[0m\u001b[0;34m)\u001b[0m\u001b[0;34m\u001b[0m\u001b[0;34m\u001b[0m\u001b[0m\n\u001b[1;32m     15\u001b[0m \u001b[0myear\u001b[0m \u001b[0;34m=\u001b[0m \u001b[0mlist\u001b[0m\u001b[0;34m(\u001b[0m\u001b[0mcount_year\u001b[0m\u001b[0;34m[\u001b[0m\u001b[0;34m'Release Year'\u001b[0m\u001b[0;34m]\u001b[0m\u001b[0;34m)\u001b[0m\u001b[0;34m\u001b[0m\u001b[0;34m\u001b[0m\u001b[0m\n",
      "\u001b[0;31mNameError\u001b[0m: name 'dbConnection' is not defined"
     ]
    }
   ],
   "source": [
    "import matplotlib.pyplot as plt\n",
    "#from jupyterthemes import jtplot\n",
    "\n",
    "\n",
    "\n",
    "sql='''\n",
    "\n",
    " \n",
    "\n",
    "select TO_CHAR(release_date,'YYYY') as \"Release Year\", count(*) from movies \n",
    "group by \"Release Year\";\n",
    "'''\n",
    "data = pd.read_sql(sql, dbConnection)\n",
    "count_year = data.sort_values(by=['count'],ascending=False).head(29)\n",
    "year = list(count_year['Release Year'])\n",
    "movie_count=list(count_year['count'])\n",
    "\n",
    " \n",
    "\n",
    "fig = plt.figure()\n",
    "ax = fig.add_axes([0,0,1,1])\n",
    "clrs = ['red' if (x < max(movie_count)) else 'blue' for x in movie_count ]\n",
    "plt.title('Movies by Year')\n",
    "plt.xlabel('Release year')\n",
    "plt.ylabel('Total no. of Movies per year')\n",
    "ax.bar(year,movie_count, width=1, edgecolor='black', color = clrs)\n",
    "plt.xticks(rotation=70)\n",
    "\n",
    "plt.show()\n",
    "#fig.savefig('output.png', dpi=300, bbox_inches='tight')"
   ]
  },
  {
   "cell_type": "code",
   "execution_count": 124,
   "metadata": {},
   "outputs": [
    {
     "name": "stdout",
     "output_type": "stream",
     "text": [
      "   Release Year         avg\n",
      "50         1915  193.000000\n",
      "90         1925  151.000000\n",
      "34         1963  148.857143\n",
      "64         1956  139.400000\n",
      "6          2012  136.000000\n",
      "31         1959  134.500000\n",
      "84         1930  133.000000\n",
      "19         2011  133.000000\n",
      "30         1960  128.083333\n",
      "62         1946  125.200000\n",
      "45         1983  124.333333\n",
      "25         1927  123.500000\n",
      "44         1954  123.000000\n",
      "21         1974  122.615385\n",
      "4          1997  119.454545\n",
      "0          1968  118.875000\n",
      "37         1975  118.833333\n",
      "39         1965  118.111111\n",
      "40         1966  117.777778\n",
      "65         1984  117.466667\n",
      "57         2009  117.428571\n",
      "58         2003  117.238095\n",
      "2          1979  117.117647\n",
      "48         1995  116.666667\n",
      "69         1982  116.357143\n",
      "36         1993  116.222222\n",
      "85         1978  116.000000\n",
      "1          2010  116.000000\n",
      "88         2005  115.627907\n"
     ]
    },
    {
     "data": {
      "text/plain": [
       "(array([ 0,  1,  2,  3,  4,  5,  6,  7,  8,  9, 10, 11, 12, 13, 14, 15, 16,\n",
       "        17, 18, 19, 20, 21, 22, 23, 24, 25, 26, 27, 28]),\n",
       " <a list of 29 Text xticklabel objects>)"
      ]
     },
     "execution_count": 124,
     "metadata": {},
     "output_type": "execute_result"
    },
    {
     "data": {
      "image/png": "[encoded data removed]",
      "text/plain": [
       "<Figure size 432x288 with 1 Axes>"
      ]
     },
     "metadata": {
      "needs_background": "light"
     },
     "output_type": "display_data"
    }
   ],
   "source": [
    "import matplotlib.pyplot as plt\n",
    "import seaborn as sns\n",
    "\n",
    " \n",
    "\n",
    "sql='''\n",
    "\n",
    " \n",
    "\n",
    "select TO_CHAR(release_date,'YYYY') as \"Release Year\", AVG(runtime) from movies group by \"Release Year\";\n",
    "'''\n",
    "data = pd.read_sql(sql, dbConnection)\n",
    "count_year = data.sort_values(by=['avg'],ascending=False).head(29)\n",
    "year = list(count_year['Release Year'])\n",
    "movie_count=list(count_year['avg'])\n",
    "clrs = ['grey' if (x < max(movie_count)) else 'red' for x in movie_count ]\n",
    "sns.barplot(x=year, y=movie_count, palette=clrs) # color=clrs)\n",
    "plt.title('Movies avg. runtime per year')\n",
    "plt.xlabel('Release year')\n",
    "plt.ylabel('Movies Average runtime per year')\n",
    " \n",
    "\n",
    "print(count_year)\n",
    "\n",
    " \n",
    "\n",
    "# fig = plt.figure()\n",
    "# ax = fig.add_axes([0,0,1,1])\n",
    "# ax.bar(year,movie_count, width=0.7, edgecolor='black', color = 'green')\n",
    "plt.xticks(rotation=70)\n",
    "# plt.show()\n",
    "#fig.savefig('output.png', dpi=300, bbox_inches='tight')"
   ]
  },
  {
   "cell_type": "code",
   "execution_count": 23,
   "metadata": {},
   "outputs": [
    {
     "name": "stdout",
     "output_type": "stream",
     "text": [
      "   count     production_company\n",
      "0     71              Paramount\n",
      "1     59     Universal Pictures\n",
      "2     41      Columbia Pictures\n",
      "3     32         United Artists\n",
      "4     22  Warner Bros. Pictures\n",
      "5     18    Touchstone Pictures\n",
      "6     17    Metro-Goldwyn-Mayer\n"
     ]
    }
   ],
   "source": [
    "sql='''select count(languages),production_company from movies\n",
    "group by production_company \n",
    "order by count(languages)desc limit 7;'''\n",
    "movies = pd.read_sql(sql, dbConnection)\n",
    "line11 = pd.DataFrame(movies)\n",
    "print(line11)"
   ]
  },
  {
   "cell_type": "code",
   "execution_count": 24,
   "metadata": {},
   "outputs": [
    {
     "data": {
      "image/png": "[encoded data removed]",
      "text/plain": [
       "<Figure size 432x288 with 1 Axes>"
      ]
     },
     "metadata": {
      "needs_background": "light"
     },
     "output_type": "display_data"
    }
   ],
   "source": [
    "plt.plot(line11['production_company'], line11['count'], color='blue')\n",
    "plt.xlabel('Production company')\n",
    "plt.ylabel('Movies count')\n",
    "plt.title('Top 7 Production Company')\n",
    "plt.xticks(rotation=-70)\n",
    "plt.show()"
   ]
  },
  {
   "cell_type": "code",
   "execution_count": null,
   "metadata": {},
   "outputs": [],
   "source": []
  }
 ],
 "metadata": {
  "kernelspec": {
   "display_name": "Python 3",
   "language": "python",
   "name": "python3"
  },
  "language_info": {
   "codemirror_mode": {
    "name": "ipython",
    "version": 3
   },
   "file_extension": ".py",
   "mimetype": "text/x-python",
   "name": "python",
   "nbconvert_exporter": "python",
   "pygments_lexer": "ipython3",
   "version": "3.7.1"
  }
 },
 "nbformat": 4,
 "nbformat_minor": 4
}
