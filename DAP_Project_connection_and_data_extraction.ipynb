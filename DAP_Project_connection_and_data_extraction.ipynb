{
 "cells": [
  {
   "cell_type": "markdown",
   "metadata": {},
   "source": [
    " Import Necessary libraries"
   ]
  },
  {
   "cell_type": "code",
   "execution_count": 1,
   "metadata": {},
   "outputs": [],
   "source": [
    "import pymongo\n",
    "import psycopg2\n",
    "import numpy as np\n",
    "import pandas as pd\n",
    "import pandas.io.sql as sqlio\n",
    "import urllib.request\n",
    "import requests\n",
    "import urllib.parse\n",
    "import re"
   ]
  },
  {
   "cell_type": "markdown",
   "metadata": {},
   "source": [
    "Connect to mongodb installed on ec2 instance"
   ]
  },
  {
   "cell_type": "code",
   "execution_count": 6,
   "metadata": {},
   "outputs": [],
   "source": [
    "client = pymongo.MongoClient('mongodb://3.250.4.75:27017/')\n",
    "# database creating in Mongodb\n",
    "mydb = client['dap_project']\n",
    "# creating collections in database 'dap_project'\n",
    "collection_tv_reviews = mydb['dap_tv_reviews']\n",
    "collection_tv = mydb['dap_tv_shows']\n",
    "collection_movies_review = mydb['dap_movies_review']\n",
    "collection_movies = mydb['dap_movies']"
   ]
  },
  {
   "cell_type": "code",
   "execution_count": 39,
   "metadata": {},
   "outputs": [
    {
     "name": "stdout",
     "output_type": "stream",
     "text": [
      "TV Shows Review data fetched and stored in Mongodb, good job!!\n"
     ]
    }
   ],
   "source": [
    "# Fetching details of the TV Reviews from TMDB API and storing in Mongodb\n",
    "# create collection for TV Reviews data\n",
    "collection_tv_reviews = mydb['dap_tv_reviews']\n",
    "\n",
    "tv_review = 'https://api.themoviedb.org/3/tv/{}/reviews?api_key=de73d0fe4ff6171d74ac88d817fc443a&language=en-US'\n",
    "tv_review_final_ids = []\n",
    "for i in range(1,30000):\n",
    "    try:\n",
    "        tv_review_api = tv_review.format(i)\n",
    "        res = requests.get(tv_review_api)\n",
    "        res = res.json()\n",
    "        if res['total_pages'] == 1:\n",
    "            collection_tv_reviews.insert_one(res)\n",
    "            tv_review_final_ids.append(i)\n",
    "    except:\n",
    "        continue\n",
    "        \n",
    "print(\"TV Shows Review data fetched and stored in Mongodb, good job!!\")\n",
    "\n",
    "            "
   ]
  },
  {
   "cell_type": "code",
   "execution_count": 41,
   "metadata": {},
   "outputs": [
    {
     "name": "stdout",
     "output_type": "stream",
     "text": [
      "Tv Shows data has been imported and stored in Mongodb, good job!!\n"
     ]
    }
   ],
   "source": [
    "# Fetching TV shows data using TMBD API and storing it in dap_project database\n",
    "# create separate collection for TV Shows\n",
    "collection_tv = mydb['dap_tv_shows']\n",
    "\n",
    "tv_api = 'https://api.themoviedb.org/3/tv/{}?api_key=de73d0fe4ff6171d74ac88d817fc443a&language=en-US'\n",
    "for i in range(1,30000):\n",
    "    try:\n",
    "        tv_api_id = tv_api.format(i)\n",
    "        response_tv = requests.get(tv_api_id)\n",
    "        if response_tv.status_code == 200:\n",
    "            response_tv = response_tv.json()\n",
    "            collection_tv.insert_one(response_tv)\n",
    "    except:\n",
    "        continue\n",
    "        \n",
    "print(\"Tv Shows data has been imported and stored in Mongodb, good job!!\")"
   ]
  },
  {
   "cell_type": "code",
   "execution_count": 45,
   "metadata": {},
   "outputs": [
    {
     "name": "stdout",
     "output_type": "stream",
     "text": [
      "Movies review has been imported and stored in Mongodb, good job!!\n"
     ]
    }
   ],
   "source": [
    "# Fetching Movie Reviews data using TMBD API and storing it in dap_project database\n",
    "# create separate collection for Movie Reviews\n",
    "collection_movies_review = mydb['dap_movies_review']\n",
    "\n",
    "movie_review='https://api.themoviedb.org/3/movie/{}/reviews?api_key=de73d0fe4ff6171d74ac88d817fc443a&language=en-US&page=1'\n",
    "movie_review_ids = []\n",
    "for i in range(1, 10000):\n",
    "    try:\n",
    "        movie_review_api=movie_review.format(i)\n",
    "        res = requests.get(movie_review_api)\n",
    "        res = res.json()\n",
    "        if res['total_pages'] == 1:\n",
    "            collection_movies_review.insert_one(res)\n",
    "            movie_review_ids.append(i)\n",
    "    except:\n",
    "        continue\n",
    "print(\"Movies review has been imported and stored in Mongodb, good job!!\")"
   ]
  },
  {
   "cell_type": "code",
   "execution_count": 48,
   "metadata": {},
   "outputs": [
    {
     "name": "stdout",
     "output_type": "stream",
     "text": [
      "Data has been imported and stored in Mongodb, good job!!\n"
     ]
    }
   ],
   "source": [
    "# Fetching Movies data from TMDB API and storing in Mongodb\n",
    "# collection creation in database dap_project\n",
    "collection_movies = mydb['dap_movies']\n",
    "\n",
    "url = \"https://api.themoviedb.org/3/movie/{}?api_key=de73d0fe4ff6171d74ac88d817fc443a&language=en-US\"\n",
    "for i in movie_review_ids:\n",
    "    try:\n",
    "        final_url = url.format(i)\n",
    "        response = requests.get(final_url)\n",
    "        if response.status_code == 200:\n",
    "            response = response.json()\n",
    "            collection_movies.insert_one(response)\n",
    "    except:\n",
    "        continue\n",
    "        \n",
    "print('Data has been imported and stored in Mongodb, good job!!') # 1104\n"
   ]
  },
  {
   "cell_type": "markdown",
   "metadata": {},
   "source": [
    "Connect to Postgres so that we can import data from Mongodb"
   ]
  },
  {
   "cell_type": "code",
   "execution_count": 15,
   "metadata": {},
   "outputs": [
    {
     "name": "stdout",
     "output_type": "stream",
     "text": [
      "Database created sucessfully in postgres\n"
     ]
    }
   ],
   "source": [
    "try:\n",
    "    dbConnection = psycopg2.connect(\n",
    "    user = \"dap\",\n",
    "    password = \"dap\",\n",
    "    host = \"3.250.4.75\",\n",
    "    port = \"5432\",\n",
    "    database = \"postgres\")\n",
    "    dbConnection.set_isolation_level(0) # AUTOCOMMIT\n",
    "    dbCursor = dbConnection.cursor()\n",
    "    dbCursor.execute('CREATE DATABASE dap_project;')\n",
    "    print(\"Database created sucessfully in postgres\")\n",
    "except (Exception , psycopg2.Error) as dbError :\n",
    "    print (\"Error while connecting to PostgreSQL\", dbError)"
   ]
  },
  {
   "cell_type": "code",
   "execution_count": 14,
   "metadata": {},
   "outputs": [
    {
     "name": "stdout",
     "output_type": "stream",
     "text": [
      "Data inserted into tables successfully\n"
     ]
    }
   ],
   "source": [
    "# use dap_project database and create tables in it\n",
    "try:\n",
    "    dbConnection = psycopg2.connect(\n",
    "    user = \"dap\",\n",
    "    password = \"dap\",\n",
    "    host = \"3.250.4.75\",\n",
    "    port = \"5432\",\n",
    "    database = \"dap_project\")\n",
    "    dbConnection.set_isolation_level(0) # AUTOCOMMIT\n",
    "    dbCursor = dbConnection.cursor()\n",
    "except (Exception , psycopg2.Error) as dbError :\n",
    "    print (\"Error while connecting to PostgreSQL\", dbError)\n",
    "    \n",
    "# create table in database dap_project for movie reviews\n",
    "table_cloumns = \"\"\"\n",
    "CREATE TABLE movies_reviews(\n",
    "    id integer PRIMARY KEY,\n",
    "    author VARCHAR(255) NOT NULL,\n",
    "    content VARCHAR(100000),\n",
    "    review_id VARCHAR(1000),\n",
    "    url VARCHAR(1000)\n",
    ");\n",
    "\"\"\"\n",
    "try:\n",
    "    dbCursor.execute(table_cloumns)  \n",
    "    print(\"Table created sucessfully\")\n",
    "except (Exception , psycopg2.Error) as dbError :\n",
    "    print (\"Error while connecting to PostgreSQL\", dbError)\n",
    "# creating string for movie reviews to insert into table\n",
    "insert_string = \"INSERT INTO movies_reviews VALUES ({mid}, '{author}', '{content}','{review_id}', '{url}')\"\n",
    "for j in collection_movies_review.find():\n",
    "    try:\n",
    "        movie_id = j['id']\n",
    "        movie_author = j['results'][0]['author']\n",
    "        content_data = j['results'][0]['content']\n",
    "        movie_content = re.sub(r\"\\W+|_\", \" \", content_data)\n",
    "        movie_review_id = j['results'][0]['id']\n",
    "        movie_url = j['results'][0]['url']\n",
    "        insert_string1 = insert_string.format(mid=movie_id, author=movie_author, content = movie_content,\n",
    "                                                  review_id= movie_review_id, url=movie_url)\n",
    "        dbCursor.execute(insert_string1)\n",
    "    except:\n",
    "        print(movie_id)\n",
    "    finally:\n",
    "        if(dbConnection): dbConnection.close()\n",
    "print(\"Data inserted into tables successfully\")"
   ]
  },
  {
   "cell_type": "code",
   "execution_count": 13,
   "metadata": {},
   "outputs": [
    {
     "name": "stdout",
     "output_type": "stream",
     "text": [
      "Data inserted into table movies\n"
     ]
    }
   ],
   "source": [
    "#create table for movies data\n",
    "\n",
    "table_cloumn_movies = \"\"\"\n",
    "CREATE TABLE movies(\n",
    "    id integer PRIMARY KEY,\n",
    "    genre VARCHAR(255) NOT NULL,\n",
    "    production_company VARCHAR(100000),\n",
    "    production_country VARCHAR(10000),\n",
    "    release_date timestamp,\n",
    "    runtime integer,\n",
    "    languages VARCHAR(10000),\n",
    "    title VARCHAR(10000),\n",
    "    vote_average numeric(4,2),\n",
    "    vote_count integer\n",
    "    );\n",
    "\"\"\"\n",
    "\n",
    "try:\n",
    "    dbCursor.execute(table_cloumn_movies)\n",
    "    print('Table created successfully')\n",
    "except (Exception , psycopg2.Error) as dbError :\n",
    "    print (\"Error while connecting to PostgreSQL\", dbError)\n",
    "\n",
    "#inserting movies data into table from Mongodb\n",
    "insert_string_movie = \"INSERT INTO movies VALUES({mid}, '{genre}', '{production_company}', '{production_country}', '{release_date}', {runtime},'{langauges}','{title}',{vote_average},{vote_count})\"\n",
    "\n",
    "for i in collection_movies.find():\n",
    "    try:\n",
    "        movie_id = i['id']\n",
    "        movie_genre = i['genres'][0]['name']\n",
    "        movie_production_company=i['production_companies'][0]['name']\n",
    "        movie_production_country = i['production_countries'][0]['name']\n",
    "        movie_relase_date = pd.to_datetime(i['release_date'])\n",
    "        movie_runtime = i['runtime']\n",
    "        movie_language = i['spoken_languages'][0]['name']\n",
    "        content_title = i['title']\n",
    "        movie_title = re.sub(r\"\\W+|_\", \" \", content_title)\n",
    "        movie_vote_average = i['vote_average']\n",
    "        movie_vote = i['vote_count']\n",
    "        insert_string_movie1 = insert_string_movie.format(mid=movie_id, genre=movie_genre, production_company=movie_production_company, production_country= movie_production_country, release_date=movie_relase_date, runtime=movie_runtime, langauges=movie_language, title=movie_title, vote_average=movie_vote_average, vote_count=movie_vote)\n",
    "        dbCursor.execute(insert_string_movie1)\n",
    "    except:\n",
    "         print(\"Please look for the error\")\n",
    "    finally:\n",
    "        if(dbConnection): dbConnection.close()\n",
    "        \n",
    "print(\"Data inserted into table movies\")\n",
    "    "
   ]
  },
  {
   "cell_type": "code",
   "execution_count": 10,
   "metadata": {},
   "outputs": [
    {
     "name": "stdout",
     "output_type": "stream",
     "text": [
      "Error while connecting to PostgreSQL relation \"tv_reviews\" already exists\n",
      "\n",
      "Data inserted into table tv reviews\n"
     ]
    }
   ],
   "source": [
    "#create table for tv reviews data\n",
    "table_cloumns_tv_review = \"\"\"\n",
    "CREATE TABLE tv_reviews(\n",
    "    id integer PRIMARY KEY,\n",
    "    author VARCHAR(255) NOT NULL,\n",
    "    content VARCHAR(100000),\n",
    "    review_id VARCHAR(1000),\n",
    "    url VARCHAR(1000)\n",
    ");\n",
    "\"\"\"\n",
    "try:\n",
    "    dbCursor.execute(table_cloumns_tv_review)  \n",
    "    print(\"Table created sucessfully\")\n",
    "except (Exception , psycopg2.Error) as dbError :\n",
    "    print (\"Error while connecting to PostgreSQL\", dbError)\n",
    "# inserting tv_reviews data in the Mongodb\n",
    "insert_string = \"INSERT INTO tv_reviews VALUES ({tid}, '{author}', '{content}','{review_id}', '{url}')\"\n",
    "for j in collection_tv_reviews.find():\n",
    "    try:\n",
    "        tv_id = j['id']\n",
    "        tv_author = j['results'][0]['author']\n",
    "        content_data = j['results'][0]['content']\n",
    "        tv_content = re.sub(r\"\\W+|_\", \" \", content_data)\n",
    "        tv_review_id = j['results'][0]['id']\n",
    "        tv_url = j['results'][0]['url']\n",
    "        insert_string1 = insert_string.format(tid=tv_id, author=tv_author, content = tv_content,\n",
    "                                                  review_id= tv_review_id, url=tv_url)\n",
    "        dbCursor.execute(insert_string1)\n",
    "    except:\n",
    "        print(\"Please look for the error\")\n",
    "    finally:\n",
    "        if(dbConnection): dbConnection.close()\n",
    "        \n",
    "print(\"Data inserted into table tv reviews\")"
   ]
  },
  {
   "cell_type": "code",
   "execution_count": 16,
   "metadata": {},
   "outputs": [
    {
     "name": "stdout",
     "output_type": "stream",
     "text": [
      "Table created sucessfully\n",
      "Data inserted sucessfully into table\n"
     ]
    }
   ],
   "source": [
    "#create table for tv shows data\n",
    "table_cloumns_tv_shows = \"\"\"\n",
    "CREATE TABLE tv_shows(\n",
    "    id integer PRIMARY KEY,\n",
    "    genre VARCHAR(255) NOT NULL,\n",
    "    production_company VARCHAR(100000),\n",
    "    vote_average numeric(1000),\n",
    "    runtime integer,\n",
    "    languages VARCHAR(1000)\n",
    ");\n",
    "\"\"\"\n",
    "try:\n",
    "    dbCursor.execute(table_cloumns_tv_shows)  \n",
    "    print(\"Table created sucessfully\")\n",
    "except (Exception , psycopg2.Error) as dbError :\n",
    "    print (\"Error while connecting to PostgreSQL\", dbError)\n",
    "# inserting tv reviews data into table\n",
    "insert_string_tv= \"INSERT INTO tv_shows VALUES({tvid}, '{genre}', '{production_company}', {vote_average}, {runtime},'{languages}')\"\n",
    "for k in collection_tv.find():\n",
    "    try:\n",
    "        tv_review_ids = k['id']\n",
    "        tv_genre = k['genres'][0]['name']\n",
    "        tv_production_company = k['production_companies'][0]['name']\n",
    "        tv_vote_average = k['vote_average']\n",
    "        tv_runtime = k['episode_run_time'][0]\n",
    "        tv_language = k['languages'][0]\n",
    "        insert_string_tv1 = insert_string_tv.format(tvid=tv_review_ids, genre=tv_genre, production_company=tv_production_company, vote_average=tv_vote_average, runtime= tv_runtime, languages=tv_language)\n",
    "        dbCursor.execute(insert_string_tv1)\n",
    "    except:\n",
    "        continue\n",
    "    finally:\n",
    "        if(dbConnection): dbConnection.close()\n",
    "print(\"Data inserted sucessfully into table\")"
   ]
  }
 ],
 "metadata": {
  "kernelspec": {
   "display_name": "Python 3",
   "language": "python",
   "name": "python3"
  },
  "language_info": {
   "codemirror_mode": {
    "name": "ipython",
    "version": 3
   },
   "file_extension": ".py",
   "mimetype": "text/x-python",
   "name": "python",
   "nbconvert_exporter": "python",
   "pygments_lexer": "ipython3",
   "version": "3.7.4"
  }
 },
 "nbformat": 4,
 "nbformat_minor": 2
}
