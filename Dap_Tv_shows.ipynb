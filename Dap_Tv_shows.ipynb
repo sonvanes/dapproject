{
 "cells": [
  {
   "cell_type": "code",
   "execution_count": 31,
   "metadata": {},
   "outputs": [],
   "source": [
    "import psycopg2\n",
    "try:\n",
    "    dbConnection = psycopg2.connect(\n",
    "    user = \"dap\",\n",
    "    password = \"dap\",\n",
    "    port = \"5432\",\n",
    "    database = \"dap_project\")\n",
    "    dbConnection.set_isolation_level(0) # AUTOCOMMIT\n",
    "    dbCursor = dbConnection.cursor()\n",
    "    #dbCursor.execute('CREATE DATABASE dap_project;')\n",
    "    #print(\"Database created sucessfully in postgres\")\n",
    "except (Exception , psycopg2.Error) as dbError :\n",
    "    print (\"Error while connecting to PostgreSQL\", dbError)"
   ]
  },
  {
   "cell_type": "code",
   "execution_count": 32,
   "metadata": {},
   "outputs": [],
   "source": [
    "import pandas as pd\n",
    "import matplotlib.pyplot as plt\n",
    "import seaborn as sns"
   ]
  },
  {
   "cell_type": "code",
   "execution_count": 9,
   "metadata": {},
   "outputs": [
    {
     "name": "stdout",
     "output_type": "stream",
     "text": [
      "                    genre           production_company  vote_average  runtime  \\\n",
      "id                                                                              \n",
      "2               Animation        Touchstone Television           7.0       30   \n",
      "14                 Comedy         Zinkia Entertainment           5.0       25   \n",
      "15                   Kids                         WQED           5.0       30   \n",
      "18                 Comedy  20th Century Fox Television           6.0       25   \n",
      "29                  Drama   TAT Communications Company           8.0       30   \n",
      "...                   ...                          ...           ...      ...   \n",
      "29904  Action & Adventure                      BBC One           9.0       30   \n",
      "29950              Comedy                    SVT Drama           6.0       30   \n",
      "29963              Comedy         Universal Television           0.0       60   \n",
      "29964              Comedy          Lorimar Productions           0.0       30   \n",
      "29989               Drama             Orion Television           7.0      120   \n",
      "\n",
      "      languages  \n",
      "id               \n",
      "2            en  \n",
      "14           en  \n",
      "15           en  \n",
      "18           en  \n",
      "29           en  \n",
      "...         ...  \n",
      "29904        en  \n",
      "29950        sv  \n",
      "29963        en  \n",
      "29964        en  \n",
      "29989        en  \n",
      "\n",
      "[3713 rows x 5 columns]\n"
     ]
    }
   ],
   "source": [
    "import csv\n",
    "import pandas as pd\n",
    "df= pd.read_csv(\"/Users/ganeshmore/Desktop/MSc/DAP/Datasets/tv_shows.csv\",index_col=0)\n",
    "print(df)"
   ]
  },
  {
   "cell_type": "code",
   "execution_count": 3,
   "metadata": {},
   "outputs": [
    {
     "name": "stdout",
     "output_type": "stream",
     "text": [
      "         id               genre           production_company  vote_average  \\\n",
      "0         2           Animation        Touchstone Television           7.0   \n",
      "1        14              Comedy         Zinkia Entertainment           5.0   \n",
      "2        15                Kids                         WQED           5.0   \n",
      "3        18              Comedy  20th Century Fox Television           6.0   \n",
      "4        29               Drama   TAT Communications Company           8.0   \n",
      "...     ...                 ...                          ...           ...   \n",
      "3708  29904  Action & Adventure                      BBC One           9.0   \n",
      "3709  29950              Comedy                    SVT Drama           6.0   \n",
      "3710  29963              Comedy         Universal Television           0.0   \n",
      "3711  29964              Comedy          Lorimar Productions           0.0   \n",
      "3712  29989               Drama             Orion Television           7.0   \n",
      "\n",
      "      runtime languages  \n",
      "0          30        en  \n",
      "1          25        en  \n",
      "2          30        en  \n",
      "3          25        en  \n",
      "4          30        en  \n",
      "...       ...       ...  \n",
      "3708       30        en  \n",
      "3709       30        sv  \n",
      "3710       60        en  \n",
      "3711       30        en  \n",
      "3712      120        en  \n",
      "\n",
      "[3713 rows x 6 columns]\n"
     ]
    }
   ],
   "source": [
    "sql='''select * from tv_shows\n",
    ";\n",
    "'''\n",
    "tvs = pd.read_sql(sql, dbConnection)\n",
    "df_tv = pd.DataFrame(tvs)\n",
    "print(df_tv)"
   ]
  },
  {
   "cell_type": "code",
   "execution_count": 16,
   "metadata": {},
   "outputs": [
    {
     "name": "stdout",
     "output_type": "stream",
     "text": [
      "    count               genre\n",
      "0       1             History\n",
      "1       1             Fantasy\n",
      "2       2              Action\n",
      "3      10               Music\n",
      "4      23      War & Politics\n",
      "5      24                News\n",
      "6      35                Kids\n",
      "7      56             Mystery\n",
      "8      56                Talk\n",
      "9      64                Soap\n",
      "10     70             Western\n",
      "11    110               Crime\n",
      "12    127              Family\n",
      "13    145    Sci-Fi & Fantasy\n",
      "14    208             Reality\n",
      "15    223         Documentary\n",
      "16    301  Action & Adventure\n",
      "17    473           Animation\n",
      "18    857               Drama\n",
      "19    927              Comedy\n"
     ]
    }
   ],
   "source": [
    "sql='''select count(id),genre from tv_shows group by genre order by count;'''\n",
    "tvs = pd.read_sql(sql, dbConnection)\n",
    "most_p_cpny = pd.DataFrame(tvs)\n",
    "print(most_p_cpny)"
   ]
  },
  {
   "cell_type": "raw",
   "metadata": {},
   "source": [
    "most_p_cpny.plot(kind='bar',x='genre',y='count',align = 'center',alpha=0.6)\n",
    "plt.title('TV_Shows Genre')\n",
    "plt.xlabel('Type of Genre')\n",
    "plt.ylabel('Numbers of TV_ShowsGenre')\n"
   ]
  },
  {
   "cell_type": "code",
   "execution_count": 19,
   "metadata": {},
   "outputs": [
    {
     "data": {
      "text/plain": [
       "Text(0, 0.5, 'Number of Genre')"
      ]
     },
     "execution_count": 19,
     "metadata": {},
     "output_type": "execute_result"
    },
    {
     "data": {
      "image/png": "[encoded data removed]",
      "text/plain": [
       "<Figure size 432x288 with 1 Axes>"
      ]
     },
     "metadata": {
      "needs_background": "light"
     },
     "output_type": "display_data"
    }
   ],
   "source": [
    "%matplotlib inline\n",
    "sns.barplot(x='genre',y='count',data=most_p_cpny)\n",
    "plt.xticks(rotation=90)\n",
    "plt.title('Genre')\n",
    "plt.xlabel('Types of Genre')\n",
    "plt.ylabel('Number of Genre')"
   ]
  },
  {
   "cell_type": "code",
   "execution_count": 21,
   "metadata": {},
   "outputs": [
    {
     "name": "stdout",
     "output_type": "stream",
     "text": [
      "   count languages\n",
      "0   3004        en\n",
      "1    235        ja\n",
      "2    107        es\n",
      "3     72        fr\n",
      "4     56        de\n",
      "5     46        ko\n",
      "6     28        pt\n"
     ]
    }
   ],
   "source": [
    "sql='''select count(id),languages from tv_shows group by languages order by count(id)desc limit 7;'''\n",
    "tvs = pd.read_sql(sql, dbConnection)\n",
    "top_lang = pd.DataFrame(tvs)\n",
    "print(top_lang)"
   ]
  },
  {
   "cell_type": "code",
   "execution_count": 22,
   "metadata": {},
   "outputs": [
    {
     "data": {
      "text/plain": [
       "Text(0, 0.5, 'Number of TV_shows')"
      ]
     },
     "execution_count": 22,
     "metadata": {},
     "output_type": "execute_result"
    },
    {
     "data": {
      "image/png": "[encoded data removed]",
      "text/plain": [
       "<Figure size 432x288 with 1 Axes>"
      ]
     },
     "metadata": {
      "needs_background": "light"
     },
     "output_type": "display_data"
    }
   ],
   "source": [
    "%matplotlib inline\n",
    "sns.barplot(x='languages',y='count',data=top_lang)\n",
    "plt.xticks(rotation=90)\n",
    "plt.title('Languages')\n",
    "plt.xlabel('Types of Languages')\n",
    "plt.ylabel('Number of TV_shows')"
   ]
  },
  {
   "cell_type": "code",
   "execution_count": 23,
   "metadata": {},
   "outputs": [
    {
     "data": {
      "text/plain": [
       "Text(10.049999999999997, 0.5, 'Number of Languages')"
      ]
     },
     "execution_count": 23,
     "metadata": {},
     "output_type": "execute_result"
    },
    {
     "data": {
      "image/png": "[encoded data removed]",
      "text/plain": [
       "<Figure size 360x360 with 1 Axes>"
      ]
     },
     "metadata": {
      "needs_background": "light"
     },
     "output_type": "display_data"
    }
   ],
   "source": [
    "sns.catplot(x='languages',y='vote_average',kind = \"swarm\",data=df)\n",
    "plt.xticks(rotation=90)\n",
    "plt.title('Languages vs.Vote')\n",
    "plt.xlabel('No.of votes')\n",
    "plt.ylabel('Number of Languages')"
   ]
  },
  {
   "cell_type": "code",
   "execution_count": 7,
   "metadata": {},
   "outputs": [
    {
     "name": "stdout",
     "output_type": "stream",
     "text": [
      "   count           production_company\n",
      "0    126                          BBC\n",
      "1    118         Universal Television\n",
      "2    105      Warner Bros. Television\n",
      "3     72    Hanna-Barbera Productions\n",
      "4     58         Paramount Television\n",
      "5     41  20th Century Fox Television\n",
      "6     38                     Televisa\n"
     ]
    }
   ],
   "source": [
    "sql='''select count(languages),production_company from tv_shows group by production_company order by count(languages)desc limit 7;'''\n",
    "tvs = pd.read_sql(sql, dbConnection)\n",
    "top_pro = pd.DataFrame(tvs)\n",
    "print(top_pro)"
   ]
  },
  {
   "cell_type": "code",
   "execution_count": 95,
   "metadata": {},
   "outputs": [
    {
     "data": {
      "text/plain": [
       "(array([0, 1, 2, 3, 4, 5, 6]), <a list of 7 Text xticklabel objects>)"
      ]
     },
     "execution_count": 95,
     "metadata": {},
     "output_type": "execute_result"
    },
    {
     "data": {
      "image/png": "[encoded data removed]",
      "text/plain": [
       "<Figure size 360x360 with 1 Axes>"
      ]
     },
     "metadata": {
      "needs_background": "light"
     },
     "output_type": "display_data"
    }
   ],
   "source": [
    "sns.catplot(x='production_company',y='count',palette='ch:.1',data=top_pro)\n",
    "plt.xticks(rotation=90)"
   ]
  },
  {
   "cell_type": "code",
   "execution_count": 85,
   "metadata": {
    "scrolled": true
   },
   "outputs": [
    {
     "name": "stdout",
     "output_type": "stream",
     "text": [
      "    count  vote_average\n",
      "0     743           8.0\n",
      "1     400           6.0\n",
      "2     155           5.0\n",
      "3     191           9.0\n",
      "4      22           2.0\n",
      "5      34           3.0\n",
      "6     129          10.0\n",
      "7    1169           0.0\n",
      "8     769           7.0\n",
      "9      33           1.0\n",
      "10     68           4.0\n"
     ]
    }
   ],
   "source": [
    "sql='''\n",
    "select count(id),vote_average from tv_shows group by vote_average;'''\n",
    "movies = pd.read_sql(sql, dbConnection)\n",
    "voting = pd.DataFrame(movies)\n",
    "print(voting)"
   ]
  },
  {
   "cell_type": "code",
   "execution_count": 12,
   "metadata": {},
   "outputs": [
    {
     "data": {
      "text/plain": [
       "0                            BBC\n",
       "1           Universal Television\n",
       "2        Warner Bros. Television\n",
       "3      Hanna-Barbera Productions\n",
       "4           Paramount Television\n",
       "5    20th Century Fox Television\n",
       "6                       Televisa\n",
       "Name: production_company, dtype: object"
      ]
     },
     "execution_count": 12,
     "metadata": {},
     "output_type": "execute_result"
    }
   ],
   "source": [
    "size=top_pro['production_company']\n",
    "size"
   ]
  },
  {
   "cell_type": "code",
   "execution_count": 13,
   "metadata": {},
   "outputs": [
    {
     "data": {
      "text/plain": [
       "0    126\n",
       "1    118\n",
       "2    105\n",
       "3     72\n",
       "4     58\n",
       "5     41\n",
       "6     38\n",
       "Name: count, dtype: int64"
      ]
     },
     "execution_count": 13,
     "metadata": {},
     "output_type": "execute_result"
    }
   ],
   "source": [
    "lable=top_pro['count']\n",
    "lable"
   ]
  },
  {
   "cell_type": "code",
   "execution_count": null,
   "metadata": {},
   "outputs": [],
   "source": []
  },
  {
   "cell_type": "code",
   "execution_count": 29,
   "metadata": {},
   "outputs": [
    {
     "name": "stdout",
     "output_type": "stream",
     "text": [
      "                    genre           production_company  vote_average  runtime  \\\n",
      "id                                                                              \n",
      "2               Animation        Touchstone Television           7.0       30   \n",
      "14                 Comedy         Zinkia Entertainment           5.0       25   \n",
      "15                   Kids                         WQED           5.0       30   \n",
      "18                 Comedy  20th Century Fox Television           6.0       25   \n",
      "29                  Drama   TAT Communications Company           8.0       30   \n",
      "...                   ...                          ...           ...      ...   \n",
      "29904  Action & Adventure                      BBC One           9.0       30   \n",
      "29950              Comedy                    SVT Drama           6.0       30   \n",
      "29963              Comedy         Universal Television           0.0       60   \n",
      "29964              Comedy          Lorimar Productions           0.0       30   \n",
      "29989               Drama             Orion Television           7.0      120   \n",
      "\n",
      "      languages  \n",
      "id               \n",
      "2            en  \n",
      "14           en  \n",
      "15           en  \n",
      "18           en  \n",
      "29           en  \n",
      "...         ...  \n",
      "29904        en  \n",
      "29950        sv  \n",
      "29963        en  \n",
      "29964        en  \n",
      "29989        en  \n",
      "\n",
      "[3713 rows x 5 columns]\n"
     ]
    },
    {
     "data": {
      "text/html": [
       "<div>\n",
       "<style scoped>\n",
       "    .dataframe tbody tr th:only-of-type {\n",
       "        vertical-align: middle;\n",
       "    }\n",
       "\n",
       "    .dataframe tbody tr th {\n",
       "        vertical-align: top;\n",
       "    }\n",
       "\n",
       "    .dataframe thead th {\n",
       "        text-align: right;\n",
       "    }\n",
       "</style>\n",
       "<table border=\"1\" class=\"dataframe\">\n",
       "  <thead>\n",
       "    <tr style=\"text-align: right;\">\n",
       "      <th></th>\n",
       "      <th>genre</th>\n",
       "      <th>production_company</th>\n",
       "      <th>vote_average</th>\n",
       "      <th>runtime</th>\n",
       "      <th>languages</th>\n",
       "    </tr>\n",
       "    <tr>\n",
       "      <th>id</th>\n",
       "      <th></th>\n",
       "      <th></th>\n",
       "      <th></th>\n",
       "      <th></th>\n",
       "      <th></th>\n",
       "    </tr>\n",
       "  </thead>\n",
       "  <tbody>\n",
       "  </tbody>\n",
       "</table>\n",
       "</div>"
      ],
      "text/plain": [
       "Empty DataFrame\n",
       "Columns: [genre, production_company, vote_average, runtime, languages]\n",
       "Index: []"
      ]
     },
     "execution_count": 29,
     "metadata": {},
     "output_type": "execute_result"
    }
   ],
   "source": [
    "import csv\n",
    "import pandas as pd\n",
    "df= pd.read_csv(\"/Users/ganeshmore/Desktop/MSc/DAP/Datasets/tv_shows.csv\",index_col=0)\n",
    "print(df)\n",
    "df.head(0)\n",
    "#plt.scatter(X, y, color='blue')\n",
    "#plt.xlabel('x-axis')\n",
    "#plt.ylabel('y-axis')\n",
    "#plt.title('Plot Title')\n",
    "#plt.show()"
   ]
  },
  {
   "cell_type": "code",
   "execution_count": 30,
   "metadata": {},
   "outputs": [
    {
     "data": {
      "text/plain": [
       "([0, 1, 2, 3, 4, 5, 6, 7, 8, 9, 10, 11, 12, 13, 14, 15, 16, 17, 18, 19],\n",
       " <a list of 20 Text xticklabel objects>)"
      ]
     },
     "execution_count": 30,
     "metadata": {},
     "output_type": "execute_result"
    },
    {
     "data": {
      "image/png": "[encoded data removed]",
      "text/plain": [
       "<Figure size 432x288 with 1 Axes>"
      ]
     },
     "metadata": {
      "needs_background": "light"
     },
     "output_type": "display_data"
    }
   ],
   "source": [
    "df.plot(kind='scatter',x='genre',y='vote_average',color='red')\n",
    "plt.title('Genre')\n",
    "plt.xlabel('Types of Genre')\n",
    "plt.ylabel('Voting range')\n",
    "plt.xticks(rotation=90)"
   ]
  },
  {
   "cell_type": "code",
   "execution_count": null,
   "metadata": {},
   "outputs": [],
   "source": []
  }
 ],
 "metadata": {
  "kernelspec": {
   "display_name": "Python 3",
   "language": "python",
   "name": "python3"
  },
  "language_info": {
   "codemirror_mode": {
    "name": "ipython",
    "version": 3
   },
   "file_extension": ".py",
   "mimetype": "text/x-python",
   "name": "python",
   "nbconvert_exporter": "python",
   "pygments_lexer": "ipython3",
   "version": "3.7.1"
  }
 },
 "nbformat": 4,
 "nbformat_minor": 4
}
